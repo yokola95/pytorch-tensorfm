{
 "cells": [
  {
   "cell_type": "code",
   "execution_count": 46,
   "id": "ec0074bd-73ff-4dd4-95b3-fecf424a2a85",
   "metadata": {
    "ExecuteTime": {
     "end_time": "2024-03-27T09:14:38.181287Z",
     "start_time": "2024-03-27T09:14:38.167827Z"
    }
   },
   "outputs": [
    {
     "data": {
      "text/html": [
       "<style>.container { width:110% !important; }</style>"
      ],
      "text/plain": [
       "<IPython.core.display.HTML object>"
      ]
     },
     "metadata": {},
     "output_type": "display_data"
    }
   ],
   "source": [
    "# change the cell width\n",
    "from IPython.display import display, HTML\n",
    "display(HTML(\"<style>.container { width:110% !important; }</style>\"))"
   ]
  },
  {
   "cell_type": "code",
   "execution_count": 47,
   "id": "initial_id",
   "metadata": {
    "ExecuteTime": {
     "end_time": "2024-03-26T08:11:41.373018Z",
     "start_time": "2024-03-26T08:11:39.952314Z"
    }
   },
   "outputs": [],
   "source": [
    "import matplotlib.pyplot as plt\n",
    "import seaborn as sns\n",
    "import pandas as pd\n",
    "from datetime import datetime as dt\n",
    "import time"
   ]
  },
  {
   "cell_type": "code",
   "execution_count": 48,
   "id": "652cf89c-3e38-4532-8a99-ebc5764eb3fd",
   "metadata": {},
   "outputs": [],
   "source": [
    "sns.set()\n",
    "sns.set_context(context='talk', font_scale=1.1)"
   ]
  },
  {
   "cell_type": "code",
   "execution_count": 49,
   "id": "546d018967338407",
   "metadata": {
    "ExecuteTime": {
     "end_time": "2024-03-24T19:11:44.411485Z",
     "start_time": "2024-03-24T19:11:43.851103Z"
    },
    "collapsed": false,
    "jupyter": {
     "outputs_hidden": false
    }
   },
   "outputs": [
    {
     "name": "stdout",
     "output_type": "stream",
     "text": [
      "The Cython extension is already loaded. To reload it, use:\n",
      "  %reload_ext Cython\n"
     ]
    }
   ],
   "source": [
    "%load_ext Cython"
   ]
  },
  {
   "cell_type": "code",
   "execution_count": 50,
   "id": "0eb9aff6-341a-48f7-9434-bb174d7f44eb",
   "metadata": {},
   "outputs": [],
   "source": [
    "%%cython\n",
    "import numpy as np\n",
    "cimport numpy as np\n",
    "cimport cython\n",
    "\n",
    "cdef class FwFMScoreSimulator:\n",
    "    cdef int num_fields, k\n",
    "    cdef np.float64_t[:, :] vecs   # 2D memoryview for vectors\n",
    "    cdef np.float64_t[:, :] r       # 2D memoryview for weights\n",
    "\n",
    "    def __init__(self, int num_fields, int k):\n",
    "        cdef np.ndarray[np.float64_t, ndim=2] tmp_vecs\n",
    "        cdef np.ndarray[np.float64_t, ndim=2] tmp_r\n",
    "        self.num_fields = num_fields\n",
    "        self.k = k\n",
    "        tmp_vecs = np.random.normal(size=(num_fields, k)).astype(np.float64)\n",
    "        self.vecs = tmp_vecs\n",
    "        tmp_r = np.random.normal(size=(num_fields, num_fields)).astype(np.float64)\n",
    "        self.r = np.triu(tmp_r)\n",
    "\n",
    "    @cython.boundscheck(False)\n",
    "    @cython.wraparound(False)\n",
    "    def score(self):\n",
    "        \"\"\"\n",
    "        \"\"\"\n",
    "        cdef int i, j, k_idx\n",
    "        cdef double ans = 0.0, dot_val\n",
    "        for i in range(self.num_fields):\n",
    "            for j in range(i+1, self.num_fields):\n",
    "                dot_val = 0.0\n",
    "                for k_idx in range(self.k):\n",
    "                    dot_val += self.vecs[i, k_idx] * self.vecs[j, k_idx]\n",
    "                ans += self.r[i, j] * dot_val\n",
    "        return ans\n"
   ]
  },
  {
   "cell_type": "code",
   "execution_count": 51,
   "id": "b6496b1c",
   "metadata": {},
   "outputs": [],
   "source": [
    "%%cython\n",
    "import numpy as np\n",
    "cimport cython\n",
    "\n",
    "cdef class TensorFMSimulator:\n",
    "\n",
    "    cdef int num_fields, l, k\n",
    "    cdef list dim_int, rank_tensors\n",
    "    cdef double[:, :] vecs_mv  # memoryview for vecs\n",
    "    cdef list W_mv             # list of memoryviews for each weight tensor\n",
    "\n",
    "    def __init__(self, int num_fields, int k, dim_int, rank_tensors):\n",
    "        cdef int i\n",
    "        self.num_fields = num_fields\n",
    "        self.k = k\n",
    "        self.l = len(dim_int)\n",
    "        self.dim_int = dim_int\n",
    "        self.rank_tensors = rank_tensors\n",
    "        \n",
    "        self.vecs_mv = np.zeros((num_fields, k), dtype=np.float64)\n",
    "        \n",
    "        self.W_mv = []\n",
    "        for i in range(self.l):\n",
    "            self.W_mv.append(np.zeros((num_fields, rank_tensors[i], dim_int[i]), dtype=np.float64))\n",
    "\n",
    "\n",
    "    @cython.boundscheck(False)  # Deactivate bounds checking\n",
    "    @cython.wraparound(False)   # Deactivate negative indexing.\n",
    "    def score(self):\n",
    "        \"\"\"\n",
    "        Scoring\n",
    "        \"\"\"\n",
    "        cdef double total = 0.0\n",
    "        cdef int z, i, j, b, f\n",
    "        cdef double tmp, dot_val\n",
    "        # Use the memoryview for vecs (which is C-contiguous in our case)\n",
    "        cdef double[:, :] vecs = self.vecs_mv\n",
    "        cdef double[:,:,:] W  # will point to each weight tensor\n",
    "\n",
    "\n",
    "\n",
    "        for z in range(self.l):  \n",
    "            W = self.W_mv[z]  \n",
    "            for i in range(self.k):\n",
    "                for j in range(self.rank_tensors[z]):\n",
    "                    tmp = 1.0\n",
    "                    for b in range(self.dim_int[z]):\n",
    "                        dot_val = 0.0\n",
    "                        for f in range(self.num_fields):\n",
    "                            dot_val += W[f, j, b] * vecs[f, i]\n",
    "                        tmp *= dot_val\n",
    "                    total += tmp\n",
    "        return total\n"
   ]
  },
  {
   "cell_type": "code",
   "execution_count": 71,
   "id": "e5dca435",
   "metadata": {},
   "outputs": [
    {
     
    }
   ],
   "source": [
    "%%cython\n",
    "import numpy as np\n",
    "cimport numpy as np\n",
    "cimport cython\n",
    "\n",
    "cdef class CrossNetworkWithLinearSimulator:\n",
    "    \"\"\"\n",
    "    Simulates a CrossNetwork layer (or layers) followed by a linear layer.\n",
    "    \n",
    "    The simulator holds its input vector as an attribute (self.x0), similar to the original FwFM code.\n",
    "    For an input vector x0 of length `input_dim`, each cross layer performs:\n",
    "         xw = dot(x, w)           (a scalar)\n",
    "         x = x + x0 * xw + b       (elementwise update)\n",
    "    \n",
    "    After processing all cross layers, a linear layer transforms the output vector x into a scalar:\n",
    "         p = dot(x, linear_w) + linear_b\n",
    "         \n",
    "    The score() method computes and returns the scalar output.\n",
    "    \"\"\"\n",
    "    cdef int input_dim, num_layers\n",
    "    cdef list W_mv  # List of weight vectors for each cross layer (each is a NumPy array of shape (input_dim,))\n",
    "    cdef list b_mv  # List of bias vectors for each cross layer (each is a NumPy array of shape (input_dim,))\n",
    "    \n",
    "    # Parameters for the linear layer (from input_dim -> 1)\n",
    "    cdef np.ndarray linear_w  # Weight vector (shape: (input_dim,))\n",
    "    cdef double linear_b      # Bias scalar\n",
    "    \n",
    "    # The input vector is stored as part of the simulator.\n",
    "    cdef np.ndarray x0  # Input vector (shape: (input_dim,))\n",
    "    \n",
    "    def __init__(self, int input_dim, int num_layers):\n",
    "        self.input_dim = input_dim\n",
    "        self.num_layers = num_layers\n",
    "        \n",
    "        # Initialize cross network parameters.\n",
    "        self.W_mv = []\n",
    "        self.b_mv = []\n",
    "        cdef int l\n",
    "        for l in range(num_layers):\n",
    "            # For simulation, we initialize weights and biases as zeros.\n",
    "            # You may choose to initialize with random values if desired.\n",
    "            self.W_mv.append(np.zeros(input_dim, dtype=np.float64))\n",
    "            self.b_mv.append(np.zeros(input_dim, dtype=np.float64))\n",
    "            \n",
    "        # Initialize the linear layer parameters.\n",
    "        self.linear_w = np.zeros(input_dim, dtype=np.float64)\n",
    "        self.linear_b = 1.0\n",
    "        \n",
    "        # Initialize the input vector; this can be updated externally as needed.\n",
    "        self.x0 = np.zeros(input_dim, dtype=np.float64)\n",
    "    \n",
    "    @cython.boundscheck(False)\n",
    "    @cython.wraparound(False)\n",
    "    def score(self):\n",
    "        \"\"\"\n",
    "        Computes the scalar output using the stored input (self.x0).\n",
    "        No parameters are accepted.\n",
    "        \"\"\"\n",
    "        cdef int i, l, n = self.input_dim\n",
    "        cdef double xw, p = 0.0\n",
    "        \n",
    "        # Copy the stored input vector (x0) into x. This vector will be updated.\n",
    "        cdef np.ndarray[np.float64_t, ndim=1] x_arr = self.x0.copy()\n",
    "        cdef double[:] x = x_arr\n",
    "        \n",
    "        # Create a memoryview for the original input.\n",
    "        cdef double[:] x0_mv = self.x0\n",
    "        \n",
    "        # Declare temporary variables for layer weights and biases outside the loop.\n",
    "        cdef np.ndarray[np.float64_t, ndim=1] w_arr, b_arr\n",
    "        cdef double[:] w, b\n",
    "        \n",
    "        # Loop over cross layers.\n",
    "        for l in range(self.num_layers):\n",
    "            # Assign the current layer's weight and bias arrays to the pre-declared variables.\n",
    "            w_arr = self.W_mv[l]\n",
    "            b_arr = self.b_mv[l]\n",
    "            w = w_arr  # Create a memoryview for weights.\n",
    "            b = b_arr  # Create a memoryview for biases.\n",
    "            \n",
    "            # Compute the dot product between x and w.\n",
    "            xw = 0.0\n",
    "            for i in range(n):\n",
    "                xw += x[i] * w[i]\n",
    "            \n",
    "            # Update x elementwise: x = x + x0 * xw + b.\n",
    "            for i in range(n):\n",
    "                x[i] = x[i] + x0_mv[i] * xw + b[i]\n",
    "                \n",
    "        # Apply the linear layer: compute p = dot(x, linear_w) + linear_b.\n",
    "        cdef np.ndarray[np.float64_t, ndim=1] lw_arr = self.linear_w\n",
    "        cdef double[:] lw = lw_arr\n",
    "        for i in range(n):\n",
    "            p += x[i] * lw[i]\n",
    "        p += self.linear_b\n",
    "        \n",
    "        return p"
   ]
  },
  {
   "cell_type": "code",
   "execution_count": 72,
   "id": "cb71307e177dbeaa",
   "metadata": {
    "ExecuteTime": {
     "end_time": "2024-03-24T19:11:44.615930Z",
     "start_time": "2024-03-24T19:11:44.607531Z"
    },
    "collapsed": false,
    "jupyter": {
     "outputs_hidden": false
    }
   },
   "outputs": [],
   "source": [
    "results = []\n",
    "score_count = 1000\n",
    "experiment_repeat = 1"
   ]
  },
  {
   "cell_type": "code",
   "execution_count": 73,
   "id": "ea288325-6136-46bd-8c2f-6cb9997d25e1",
   "metadata": {},
   "outputs": [],
   "source": [
    "class Benchmark:\n",
    "    def __init__(self, results, model, ranks, dim_int, count):\n",
    "        self.results = results\n",
    "        self.model = model\n",
    "        self.ranks = ranks\n",
    "        self.dim_int =  dim_int\n",
    "        self.count = count\n",
    "    \n",
    "    # enter the context manager\n",
    "    def __enter__(self):\n",
    "        self.time_start = time.perf_counter()\n",
    "        return self\n",
    "\n",
    "    def __exit__(self, type, value, traceback):\n",
    "        duration = time.perf_counter() - self.time_start\n",
    "\n",
    "        result = {\n",
    "            'Model': self.model,\n",
    "            'Rank': self.ranks,\n",
    "            'Interactions' : self.dim_int,\n",
    "            'Scoring time (ms)': 1000 * duration / self.count\n",
    "        }\n",
    "        self.results.append(result)        \n",
    "        return self"
   ]
  },
  {
   "cell_type": "code",
   "execution_count": null,
   "id": "b2a2516271b9bd1",
   "metadata": {
    "ExecuteTime": {
     "end_time": "2024-03-24T19:14:40.552398Z",
     "start_time": "2024-03-24T19:11:44.613360Z"
    },
    "collapsed": false,
    "jupyter": {
     "outputs_hidden": false
    }
   },
   "outputs": [
    {
     "name": "stdout",
     "output_type": "stream",
     "text": [
      "Current ISO time: 2025-02-10T20:58:38.885816, rank = 1 order interactions = {order_interactions}\n",
      "Current ISO time: 2025-02-10T20:58:38.890848, rank = 2 order interactions = {order_interactions}\n",
      "Current ISO time: 2025-02-10T20:58:38.898055, rank = 4 order interactions = {order_interactions}\n",
      "Current ISO time: 2025-02-10T20:58:38.914540, rank = 8 order interactions = {order_interactions}\n",
      "Current ISO time: 2025-02-10T20:58:38.934812, rank = 1 order interactions = {order_interactions}\n",
      "Current ISO time: 2025-02-10T20:58:38.940595, rank = 2 order interactions = {order_interactions}\n",
      "Current ISO time: 2025-02-10T20:58:38.950257, rank = 4 order interactions = {order_interactions}\n",
      "Current ISO time: 2025-02-10T20:58:38.967101, rank = 8 order interactions = {order_interactions}\n",
      "Current ISO time: 2025-02-10T20:58:38.997545, rank = 1 order interactions = {order_interactions}\n",
      "Current ISO time: 2025-02-10T20:58:39.004597, rank = 2 order interactions = {order_interactions}\n",
      "Current ISO time: 2025-02-10T20:58:39.018414, rank = 4 order interactions = {order_interactions}\n",
      "Current ISO time: 2025-02-10T20:58:39.045185, rank = 8 order interactions = {order_interactions}\n",
      "Current ISO time: 2025-02-10T20:58:39.098244, rank = 1 order interactions = {order_interactions}\n",
      "Current ISO time: 2025-02-10T20:58:39.109150, rank = 2 order interactions = {order_interactions}\n",
      "Current ISO time: 2025-02-10T20:58:39.130248, rank = 4 order interactions = {order_interactions}\n",
      "Current ISO time: 2025-02-10T20:58:39.172322, rank = 8 order interactions = {order_interactions}\n"
     ]
    }
   ],
   "source": [
    "# compute low rank timings\n",
    "for order_interactions in [[2],[2,3],[2,3,4]]:\n",
    "    for rank in [1,2,4]:\n",
    "        x = dt.now().isoformat()\n",
    "        print(f'Current ISO time: {x}, rank = {rank}', 'order interactions = {order_interactions}')\n",
    "        for i in range(experiment_repeat):\n",
    "            tensorfm_sim = TensorFMSimulator(num_fields=100, k=10, rank_tensors = [rank]*len(order_interactions), dim_int = order_interactions )\n",
    "            with Benchmark(results, 'TensorFM', [rank]*len(order_interactions), order_interactions, score_count) as benchmark:\n",
    "                for j in range(score_count):\n",
    "                    tensorfm_sim.score()"
   ]
  },
  {
   "cell_type": "code",
   "execution_count": 75,
   "id": "1bdf826c-812d-4923-95ae-0d9dd6c03729",
   "metadata": {},
   "outputs": [
    {
     "name": "stdout",
     "output_type": "stream",
     "text": [
      "Current ISO time: 2025-02-10T20:58:39.490108\n"
     ]
    }
   ],
   "source": [
    "# compute FwFM timings\n",
    "x = dt.now().isoformat()\n",
    "print(f'Current ISO time: {x}')\n",
    "for i in range(experiment_repeat):\n",
    "    fwfm_sim = FwFMScoreSimulator(num_fields=100, k=10)\n",
    "    with Benchmark(results, 'FwFM', None, None, score_count) as benchmark:\n",
    "        for j in range(score_count):\n",
    "            x = fwfm_sim.score()"
   ]
  },
  {
   "cell_type": "code",
   "execution_count": 76,
   "id": "59de8b7a",
   "metadata": {},
   "outputs": [
    {
     "name": "stdout",
     "output_type": "stream",
     "text": [
      "Current ISO time: 2025-02-10T20:58:40.509772\n"
     ]
    }
   ],
   "source": [
    "x = dt.now().isoformat()\n",
    "print(f'Current ISO time: {x}')\n",
    "for i in range(experiment_repeat):\n",
    "    cn_sim = CrossNetworkWithLinearSimulator(input_dim=100*10,num_layers=3)\n",
    "    with Benchmark(results, 'CN', None, None, score_count) as benchmark:\n",
    "        for j in range(score_count):\n",
    "            x = cn_sim.score()"
   ]
  },
  {
   "cell_type": "code",
   "execution_count": 77,
   "id": "95b88ffa020dd097",
   "metadata": {
    "ExecuteTime": {
     "end_time": "2024-03-24T19:24:37.517037Z",
     "start_time": "2024-03-24T19:24:37.495536Z"
    },
    "collapsed": false,
    "jupyter": {
     "outputs_hidden": false
    }
   },
   "outputs": [
    {
     "data": {
      "text/html": [
       "<div>\n",
       "<style scoped>\n",
       "    .dataframe tbody tr th:only-of-type {\n",
       "        vertical-align: middle;\n",
       "    }\n",
       "\n",
       "    .dataframe tbody tr th {\n",
       "        vertical-align: top;\n",
       "    }\n",
       "\n",
       "    .dataframe thead th {\n",
       "        text-align: right;\n",
       "    }\n",
       "</style>\n",
       "<table border=\"1\" class=\"dataframe\">\n",
       "  <thead>\n",
       "    <tr style=\"text-align: right;\">\n",
       "      <th></th>\n",
       "      <th>Model</th>\n",
       "      <th>Rank</th>\n",
       "      <th>Interactions</th>\n",
       "      <th>Scoring time (ms)</th>\n",
       "    </tr>\n",
       "  </thead>\n",
       "  <tbody>\n",
       "    <tr>\n",
       "      <th>0</th>\n",
       "      <td>TensorFM</td>\n",
       "      <td>[1]</td>\n",
       "      <td>[2]</td>\n",
       "      <td>0.004328</td>\n",
       "    </tr>\n",
       "    <tr>\n",
       "      <th>1</th>\n",
       "      <td>TensorFM</td>\n",
       "      <td>[2]</td>\n",
       "      <td>[2]</td>\n",
       "      <td>0.007133</td>\n",
       "    </tr>\n",
       "    <tr>\n",
       "      <th>2</th>\n",
       "      <td>TensorFM</td>\n",
       "      <td>[4]</td>\n",
       "      <td>[2]</td>\n",
       "      <td>0.016315</td>\n",
       "    </tr>\n",
       "    <tr>\n",
       "      <th>3</th>\n",
       "      <td>TensorFM</td>\n",
       "      <td>[8]</td>\n",
       "      <td>[2]</td>\n",
       "      <td>0.020020</td>\n",
       "    </tr>\n",
       "    <tr>\n",
       "      <th>4</th>\n",
       "      <td>TensorFM</td>\n",
       "      <td>[1, 1]</td>\n",
       "      <td>[2, 3]</td>\n",
       "      <td>0.005711</td>\n",
       "    </tr>\n",
       "    <tr>\n",
       "      <th>5</th>\n",
       "      <td>TensorFM</td>\n",
       "      <td>[2, 2]</td>\n",
       "      <td>[2, 3]</td>\n",
       "      <td>0.009589</td>\n",
       "    </tr>\n",
       "    <tr>\n",
       "      <th>6</th>\n",
       "      <td>TensorFM</td>\n",
       "      <td>[4, 4]</td>\n",
       "      <td>[2, 3]</td>\n",
       "      <td>0.016668</td>\n",
       "    </tr>\n",
       "    <tr>\n",
       "      <th>7</th>\n",
       "      <td>TensorFM</td>\n",
       "      <td>[8, 8]</td>\n",
       "      <td>[2, 3]</td>\n",
       "      <td>0.030326</td>\n",
       "    </tr>\n",
       "    <tr>\n",
       "      <th>8</th>\n",
       "      <td>TensorFM</td>\n",
       "      <td>[1, 1, 1]</td>\n",
       "      <td>[2, 3, 4]</td>\n",
       "      <td>0.006991</td>\n",
       "    </tr>\n",
       "    <tr>\n",
       "      <th>9</th>\n",
       "      <td>TensorFM</td>\n",
       "      <td>[2, 2, 2]</td>\n",
       "      <td>[2, 3, 4]</td>\n",
       "      <td>0.013796</td>\n",
       "    </tr>\n",
       "    <tr>\n",
       "      <th>10</th>\n",
       "      <td>TensorFM</td>\n",
       "      <td>[4, 4, 4]</td>\n",
       "      <td>[2, 3, 4]</td>\n",
       "      <td>0.026730</td>\n",
       "    </tr>\n",
       "    <tr>\n",
       "      <th>11</th>\n",
       "      <td>TensorFM</td>\n",
       "      <td>[8, 8, 8]</td>\n",
       "      <td>[2, 3, 4]</td>\n",
       "      <td>0.053005</td>\n",
       "    </tr>\n",
       "    <tr>\n",
       "      <th>12</th>\n",
       "      <td>TensorFM</td>\n",
       "      <td>[1, 1, 1, 1]</td>\n",
       "      <td>[2, 3, 4, 5]</td>\n",
       "      <td>0.010837</td>\n",
       "    </tr>\n",
       "    <tr>\n",
       "      <th>13</th>\n",
       "      <td>TensorFM</td>\n",
       "      <td>[2, 2, 2, 2]</td>\n",
       "      <td>[2, 3, 4, 5]</td>\n",
       "      <td>0.021050</td>\n",
       "    </tr>\n",
       "    <tr>\n",
       "      <th>14</th>\n",
       "      <td>TensorFM</td>\n",
       "      <td>[4, 4, 4, 4]</td>\n",
       "      <td>[2, 3, 4, 5]</td>\n",
       "      <td>0.042024</td>\n",
       "    </tr>\n",
       "    <tr>\n",
       "      <th>15</th>\n",
       "      <td>TensorFM</td>\n",
       "      <td>[8, 8, 8, 8]</td>\n",
       "      <td>[2, 3, 4, 5]</td>\n",
       "      <td>0.083251</td>\n",
       "    </tr>\n",
       "    <tr>\n",
       "      <th>16</th>\n",
       "      <td>FwFM</td>\n",
       "      <td>None</td>\n",
       "      <td>None</td>\n",
       "      <td>0.035697</td>\n",
       "    </tr>\n",
       "    <tr>\n",
       "      <th>17</th>\n",
       "      <td>CN</td>\n",
       "      <td>None</td>\n",
       "      <td>None</td>\n",
       "      <td>0.022068</td>\n",
       "    </tr>\n",
       "  </tbody>\n",
       "</table>\n",
       "</div>"
      ],
      "text/plain": [
       "       Model          Rank  Interactions  Scoring time (ms)\n",
       "0   TensorFM           [1]           [2]           0.004328\n",
       "1   TensorFM           [2]           [2]           0.007133\n",
       "2   TensorFM           [4]           [2]           0.016315\n",
       "3   TensorFM           [8]           [2]           0.020020\n",
       "4   TensorFM        [1, 1]        [2, 3]           0.005711\n",
       "5   TensorFM        [2, 2]        [2, 3]           0.009589\n",
       "6   TensorFM        [4, 4]        [2, 3]           0.016668\n",
       "7   TensorFM        [8, 8]        [2, 3]           0.030326\n",
       "8   TensorFM     [1, 1, 1]     [2, 3, 4]           0.006991\n",
       "9   TensorFM     [2, 2, 2]     [2, 3, 4]           0.013796\n",
       "10  TensorFM     [4, 4, 4]     [2, 3, 4]           0.026730\n",
       "11  TensorFM     [8, 8, 8]     [2, 3, 4]           0.053005\n",
       "12  TensorFM  [1, 1, 1, 1]  [2, 3, 4, 5]           0.010837\n",
       "13  TensorFM  [2, 2, 2, 2]  [2, 3, 4, 5]           0.021050\n",
       "14  TensorFM  [4, 4, 4, 4]  [2, 3, 4, 5]           0.042024\n",
       "15  TensorFM  [8, 8, 8, 8]  [2, 3, 4, 5]           0.083251\n",
       "16      FwFM          None          None           0.035697\n",
       "17        CN          None          None           0.022068"
      ]
     },
     "execution_count": 77,
     "metadata": {},
     "output_type": "execute_result"
    }
   ],
   "source": [
    "results = pd.DataFrame.from_records(results)\n",
    "results"
   ]
  },
  {
   "cell_type": "code",
   "execution_count": 96,
   "id": "24d19212b210adf4",
   "metadata": {
    "ExecuteTime": {
     "end_time": "2024-03-26T08:16:45.640956Z",
     "start_time": "2024-03-26T08:16:41.859817Z"
    },
    "collapsed": false,
    "jupyter": {
     "outputs_hidden": false
    }
   },
   "outputs": [
    {
     "ename": "ValueError",
     "evalue": "Could not interpret value `# context fields` for `x`. An entry with this name does not appear in `data`.",
     "output_type": "error",
     "traceback": [
      "\u001b[0;31m---------------------------------------------------------------------------\u001b[0m",
      "\u001b[0;31mValueError\u001b[0m                                Traceback (most recent call last)",
      "Cell \u001b[0;32mIn[96], line 1\u001b[0m\n\u001b[0;32m----> 1\u001b[0m \u001b[43msns\u001b[49m\u001b[38;5;241;43m.\u001b[39;49m\u001b[43mrelplot\u001b[49m\u001b[43m(\u001b[49m\u001b[43mdata\u001b[49m\u001b[38;5;241;43m=\u001b[39;49m\u001b[43mresults\u001b[49m\u001b[43m,\u001b[49m\u001b[43m \u001b[49m\u001b[43mx\u001b[49m\u001b[38;5;241;43m=\u001b[39;49m\u001b[38;5;124;43m'\u001b[39;49m\u001b[38;5;124;43m# context fields\u001b[39;49m\u001b[38;5;124;43m'\u001b[39;49m\u001b[43m,\u001b[49m\u001b[43m \u001b[49m\u001b[43my\u001b[49m\u001b[38;5;241;43m=\u001b[39;49m\u001b[38;5;124;43m'\u001b[39;49m\u001b[38;5;124;43mScoring time (ms)\u001b[39;49m\u001b[38;5;124;43m'\u001b[39;49m\u001b[43m,\u001b[49m\u001b[43m \u001b[49m\u001b[43mhue\u001b[49m\u001b[38;5;241;43m=\u001b[39;49m\u001b[38;5;124;43m'\u001b[39;49m\u001b[38;5;124;43mModel\u001b[39;49m\u001b[38;5;124;43m'\u001b[39;49m\u001b[43m,\u001b[49m\u001b[43m \u001b[49m\u001b[43mcol\u001b[49m\u001b[38;5;241;43m=\u001b[39;49m\u001b[38;5;124;43m'\u001b[39;49m\u001b[38;5;124;43mRank\u001b[39;49m\u001b[38;5;124;43m'\u001b[39;49m\u001b[43m,\u001b[49m\u001b[43m \u001b[49m\u001b[43mkind\u001b[49m\u001b[38;5;241;43m=\u001b[39;49m\u001b[38;5;124;43m'\u001b[39;49m\u001b[38;5;124;43mline\u001b[39;49m\u001b[38;5;124;43m'\u001b[39;49m\u001b[43m,\u001b[49m\u001b[43m \u001b[49m\u001b[43mfacet_kws\u001b[49m\u001b[38;5;241;43m=\u001b[39;49m\u001b[38;5;28;43mdict\u001b[39;49m\u001b[43m(\u001b[49m\u001b[43msharex\u001b[49m\u001b[38;5;241;43m=\u001b[39;49m\u001b[38;5;28;43;01mTrue\u001b[39;49;00m\u001b[43m,\u001b[49m\u001b[43m \u001b[49m\u001b[43msharey\u001b[49m\u001b[38;5;241;43m=\u001b[39;49m\u001b[38;5;28;43;01mFalse\u001b[39;49;00m\u001b[43m)\u001b[49m\u001b[43m)\u001b[49m\n",
      "File \u001b[0;32m~/miniforge3/envs/disagreemnt/lib/python3.10/site-packages/seaborn/relational.py:748\u001b[0m, in \u001b[0;36mrelplot\u001b[0;34m(data, x, y, hue, size, style, units, weights, row, col, col_wrap, row_order, col_order, palette, hue_order, hue_norm, sizes, size_order, size_norm, markers, dashes, style_order, legend, kind, height, aspect, facet_kws, **kwargs)\u001b[0m\n\u001b[1;32m    746\u001b[0m         msg \u001b[38;5;241m=\u001b[39m \u001b[38;5;124m\"\u001b[39m\u001b[38;5;124mThe `weights` parameter has no effect with kind=\u001b[39m\u001b[38;5;124m'\u001b[39m\u001b[38;5;124mscatter\u001b[39m\u001b[38;5;124m'\u001b[39m\u001b[38;5;124m.\u001b[39m\u001b[38;5;124m\"\u001b[39m\n\u001b[1;32m    747\u001b[0m         warnings\u001b[38;5;241m.\u001b[39mwarn(msg, stacklevel\u001b[38;5;241m=\u001b[39m\u001b[38;5;241m2\u001b[39m)\n\u001b[0;32m--> 748\u001b[0m p \u001b[38;5;241m=\u001b[39m \u001b[43mPlotter\u001b[49m\u001b[43m(\u001b[49m\n\u001b[1;32m    749\u001b[0m \u001b[43m    \u001b[49m\u001b[43mdata\u001b[49m\u001b[38;5;241;43m=\u001b[39;49m\u001b[43mdata\u001b[49m\u001b[43m,\u001b[49m\n\u001b[1;32m    750\u001b[0m \u001b[43m    \u001b[49m\u001b[43mvariables\u001b[49m\u001b[38;5;241;43m=\u001b[39;49m\u001b[43mvariables\u001b[49m\u001b[43m,\u001b[49m\n\u001b[1;32m    751\u001b[0m \u001b[43m    \u001b[49m\u001b[43mlegend\u001b[49m\u001b[38;5;241;43m=\u001b[39;49m\u001b[43mlegend\u001b[49m\u001b[43m,\u001b[49m\n\u001b[1;32m    752\u001b[0m \u001b[43m\u001b[49m\u001b[43m)\u001b[49m\n\u001b[1;32m    753\u001b[0m p\u001b[38;5;241m.\u001b[39mmap_hue(palette\u001b[38;5;241m=\u001b[39mpalette, order\u001b[38;5;241m=\u001b[39mhue_order, norm\u001b[38;5;241m=\u001b[39mhue_norm)\n\u001b[1;32m    754\u001b[0m p\u001b[38;5;241m.\u001b[39mmap_size(sizes\u001b[38;5;241m=\u001b[39msizes, order\u001b[38;5;241m=\u001b[39msize_order, norm\u001b[38;5;241m=\u001b[39msize_norm)\n",
      "File \u001b[0;32m~/miniforge3/envs/disagreemnt/lib/python3.10/site-packages/seaborn/relational.py:216\u001b[0m, in \u001b[0;36m_LinePlotter.__init__\u001b[0;34m(self, data, variables, estimator, n_boot, seed, errorbar, sort, orient, err_style, err_kws, legend)\u001b[0m\n\u001b[1;32m    202\u001b[0m \u001b[38;5;28;01mdef\u001b[39;00m \u001b[38;5;21m__init__\u001b[39m(\n\u001b[1;32m    203\u001b[0m     \u001b[38;5;28mself\u001b[39m, \u001b[38;5;241m*\u001b[39m,\n\u001b[1;32m    204\u001b[0m     data\u001b[38;5;241m=\u001b[39m\u001b[38;5;28;01mNone\u001b[39;00m, variables\u001b[38;5;241m=\u001b[39m{},\n\u001b[0;32m   (...)\u001b[0m\n\u001b[1;32m    210\u001b[0m     \u001b[38;5;66;03m# the kind of plot to draw, but for the time being we need to set\u001b[39;00m\n\u001b[1;32m    211\u001b[0m     \u001b[38;5;66;03m# this information so the SizeMapping can use it\u001b[39;00m\n\u001b[1;32m    212\u001b[0m     \u001b[38;5;28mself\u001b[39m\u001b[38;5;241m.\u001b[39m_default_size_range \u001b[38;5;241m=\u001b[39m (\n\u001b[1;32m    213\u001b[0m         np\u001b[38;5;241m.\u001b[39mr_[\u001b[38;5;241m.5\u001b[39m, \u001b[38;5;241m2\u001b[39m] \u001b[38;5;241m*\u001b[39m mpl\u001b[38;5;241m.\u001b[39mrcParams[\u001b[38;5;124m\"\u001b[39m\u001b[38;5;124mlines.linewidth\u001b[39m\u001b[38;5;124m\"\u001b[39m]\n\u001b[1;32m    214\u001b[0m     )\n\u001b[0;32m--> 216\u001b[0m     \u001b[38;5;28;43msuper\u001b[39;49m\u001b[43m(\u001b[49m\u001b[43m)\u001b[49m\u001b[38;5;241;43m.\u001b[39;49m\u001b[38;5;21;43m__init__\u001b[39;49m\u001b[43m(\u001b[49m\u001b[43mdata\u001b[49m\u001b[38;5;241;43m=\u001b[39;49m\u001b[43mdata\u001b[49m\u001b[43m,\u001b[49m\u001b[43m \u001b[49m\u001b[43mvariables\u001b[49m\u001b[38;5;241;43m=\u001b[39;49m\u001b[43mvariables\u001b[49m\u001b[43m)\u001b[49m\n\u001b[1;32m    218\u001b[0m     \u001b[38;5;28mself\u001b[39m\u001b[38;5;241m.\u001b[39mestimator \u001b[38;5;241m=\u001b[39m estimator\n\u001b[1;32m    219\u001b[0m     \u001b[38;5;28mself\u001b[39m\u001b[38;5;241m.\u001b[39merrorbar \u001b[38;5;241m=\u001b[39m errorbar\n",
      "File \u001b[0;32m~/miniforge3/envs/disagreemnt/lib/python3.10/site-packages/seaborn/_base.py:634\u001b[0m, in \u001b[0;36mVectorPlotter.__init__\u001b[0;34m(self, data, variables)\u001b[0m\n\u001b[1;32m    629\u001b[0m \u001b[38;5;66;03m# var_ordered is relevant only for categorical axis variables, and may\u001b[39;00m\n\u001b[1;32m    630\u001b[0m \u001b[38;5;66;03m# be better handled by an internal axis information object that tracks\u001b[39;00m\n\u001b[1;32m    631\u001b[0m \u001b[38;5;66;03m# such information and is set up by the scale_* methods. The analogous\u001b[39;00m\n\u001b[1;32m    632\u001b[0m \u001b[38;5;66;03m# information for numeric axes would be information about log scales.\u001b[39;00m\n\u001b[1;32m    633\u001b[0m \u001b[38;5;28mself\u001b[39m\u001b[38;5;241m.\u001b[39m_var_ordered \u001b[38;5;241m=\u001b[39m {\u001b[38;5;124m\"\u001b[39m\u001b[38;5;124mx\u001b[39m\u001b[38;5;124m\"\u001b[39m: \u001b[38;5;28;01mFalse\u001b[39;00m, \u001b[38;5;124m\"\u001b[39m\u001b[38;5;124my\u001b[39m\u001b[38;5;124m\"\u001b[39m: \u001b[38;5;28;01mFalse\u001b[39;00m}  \u001b[38;5;66;03m# alt., used DefaultDict\u001b[39;00m\n\u001b[0;32m--> 634\u001b[0m \u001b[38;5;28;43mself\u001b[39;49m\u001b[38;5;241;43m.\u001b[39;49m\u001b[43massign_variables\u001b[49m\u001b[43m(\u001b[49m\u001b[43mdata\u001b[49m\u001b[43m,\u001b[49m\u001b[43m \u001b[49m\u001b[43mvariables\u001b[49m\u001b[43m)\u001b[49m\n\u001b[1;32m    636\u001b[0m \u001b[38;5;66;03m# TODO Lots of tests assume that these are called to initialize the\u001b[39;00m\n\u001b[1;32m    637\u001b[0m \u001b[38;5;66;03m# mappings to default values on class initialization. I'd prefer to\u001b[39;00m\n\u001b[1;32m    638\u001b[0m \u001b[38;5;66;03m# move away from that and only have a mapping when explicitly called.\u001b[39;00m\n\u001b[1;32m    639\u001b[0m \u001b[38;5;28;01mfor\u001b[39;00m var \u001b[38;5;129;01min\u001b[39;00m [\u001b[38;5;124m\"\u001b[39m\u001b[38;5;124mhue\u001b[39m\u001b[38;5;124m\"\u001b[39m, \u001b[38;5;124m\"\u001b[39m\u001b[38;5;124msize\u001b[39m\u001b[38;5;124m\"\u001b[39m, \u001b[38;5;124m\"\u001b[39m\u001b[38;5;124mstyle\u001b[39m\u001b[38;5;124m\"\u001b[39m]:\n",
      "File \u001b[0;32m~/miniforge3/envs/disagreemnt/lib/python3.10/site-packages/seaborn/_base.py:679\u001b[0m, in \u001b[0;36mVectorPlotter.assign_variables\u001b[0;34m(self, data, variables)\u001b[0m\n\u001b[1;32m    674\u001b[0m \u001b[38;5;28;01melse\u001b[39;00m:\n\u001b[1;32m    675\u001b[0m     \u001b[38;5;66;03m# When dealing with long-form input, use the newer PlotData\u001b[39;00m\n\u001b[1;32m    676\u001b[0m     \u001b[38;5;66;03m# object (internal but introduced for the objects interface)\u001b[39;00m\n\u001b[1;32m    677\u001b[0m     \u001b[38;5;66;03m# to centralize / standardize data consumption logic.\u001b[39;00m\n\u001b[1;32m    678\u001b[0m     \u001b[38;5;28mself\u001b[39m\u001b[38;5;241m.\u001b[39minput_format \u001b[38;5;241m=\u001b[39m \u001b[38;5;124m\"\u001b[39m\u001b[38;5;124mlong\u001b[39m\u001b[38;5;124m\"\u001b[39m\n\u001b[0;32m--> 679\u001b[0m     plot_data \u001b[38;5;241m=\u001b[39m \u001b[43mPlotData\u001b[49m\u001b[43m(\u001b[49m\u001b[43mdata\u001b[49m\u001b[43m,\u001b[49m\u001b[43m \u001b[49m\u001b[43mvariables\u001b[49m\u001b[43m)\u001b[49m\n\u001b[1;32m    680\u001b[0m     frame \u001b[38;5;241m=\u001b[39m plot_data\u001b[38;5;241m.\u001b[39mframe\n\u001b[1;32m    681\u001b[0m     names \u001b[38;5;241m=\u001b[39m plot_data\u001b[38;5;241m.\u001b[39mnames\n",
      "File \u001b[0;32m~/miniforge3/envs/disagreemnt/lib/python3.10/site-packages/seaborn/_core/data.py:58\u001b[0m, in \u001b[0;36mPlotData.__init__\u001b[0;34m(self, data, variables)\u001b[0m\n\u001b[1;32m     51\u001b[0m \u001b[38;5;28;01mdef\u001b[39;00m \u001b[38;5;21m__init__\u001b[39m(\n\u001b[1;32m     52\u001b[0m     \u001b[38;5;28mself\u001b[39m,\n\u001b[1;32m     53\u001b[0m     data: DataSource,\n\u001b[1;32m     54\u001b[0m     variables: \u001b[38;5;28mdict\u001b[39m[\u001b[38;5;28mstr\u001b[39m, VariableSpec],\n\u001b[1;32m     55\u001b[0m ):\n\u001b[1;32m     57\u001b[0m     data \u001b[38;5;241m=\u001b[39m handle_data_source(data)\n\u001b[0;32m---> 58\u001b[0m     frame, names, ids \u001b[38;5;241m=\u001b[39m \u001b[38;5;28;43mself\u001b[39;49m\u001b[38;5;241;43m.\u001b[39;49m\u001b[43m_assign_variables\u001b[49m\u001b[43m(\u001b[49m\u001b[43mdata\u001b[49m\u001b[43m,\u001b[49m\u001b[43m \u001b[49m\u001b[43mvariables\u001b[49m\u001b[43m)\u001b[49m\n\u001b[1;32m     60\u001b[0m     \u001b[38;5;28mself\u001b[39m\u001b[38;5;241m.\u001b[39mframe \u001b[38;5;241m=\u001b[39m frame\n\u001b[1;32m     61\u001b[0m     \u001b[38;5;28mself\u001b[39m\u001b[38;5;241m.\u001b[39mnames \u001b[38;5;241m=\u001b[39m names\n",
      "File \u001b[0;32m~/miniforge3/envs/disagreemnt/lib/python3.10/site-packages/seaborn/_core/data.py:232\u001b[0m, in \u001b[0;36mPlotData._assign_variables\u001b[0;34m(self, data, variables)\u001b[0m\n\u001b[1;32m    230\u001b[0m     \u001b[38;5;28;01melse\u001b[39;00m:\n\u001b[1;32m    231\u001b[0m         err \u001b[38;5;241m+\u001b[39m\u001b[38;5;241m=\u001b[39m \u001b[38;5;124m\"\u001b[39m\u001b[38;5;124mAn entry with this name does not appear in `data`.\u001b[39m\u001b[38;5;124m\"\u001b[39m\n\u001b[0;32m--> 232\u001b[0m     \u001b[38;5;28;01mraise\u001b[39;00m \u001b[38;5;167;01mValueError\u001b[39;00m(err)\n\u001b[1;32m    234\u001b[0m \u001b[38;5;28;01melse\u001b[39;00m:\n\u001b[1;32m    235\u001b[0m \n\u001b[1;32m    236\u001b[0m     \u001b[38;5;66;03m# Otherwise, assume the value somehow represents data\u001b[39;00m\n\u001b[1;32m    237\u001b[0m \n\u001b[1;32m    238\u001b[0m     \u001b[38;5;66;03m# Ignore empty data structures\u001b[39;00m\n\u001b[1;32m    239\u001b[0m     \u001b[38;5;28;01mif\u001b[39;00m \u001b[38;5;28misinstance\u001b[39m(val, Sized) \u001b[38;5;129;01mand\u001b[39;00m \u001b[38;5;28mlen\u001b[39m(val) \u001b[38;5;241m==\u001b[39m \u001b[38;5;241m0\u001b[39m:\n",
      "\u001b[0;31mValueError\u001b[0m: Could not interpret value `# context fields` for `x`. An entry with this name does not appear in `data`."
     ]
    }
   ],
   "source": [
    "#sns.relplot(data=results, x='# context fields', y='Scoring time (ms)', hue='Model', col='Rank', kind='line', facet_kws=dict(sharex=True, sharey=False))"
   ]
  },
  {
   "cell_type": "code",
   "execution_count": null,
   "id": "4e91ae06",
   "metadata": {},
   "outputs": [],
   "source": []
  }
 ],
 "metadata": {
  "kernelspec": {
   "display_name": "disagreemnt",
   "language": "python",
   "name": "python3"
  },
  "language_info": {
   "codemirror_mode": {
    "name": "ipython",
    "version": 3
   },
   "file_extension": ".py",
   "mimetype": "text/x-python",
   "name": "python",
   "nbconvert_exporter": "python",
   "pygments_lexer": "ipython3",
   "version": "3.10.5"
  }
 },
 "nbformat": 4,
 "nbformat_minor": 5
}
