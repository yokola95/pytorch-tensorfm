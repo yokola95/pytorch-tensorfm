{
 "cells": [
  {
   "cell_type": "code",
   "execution_count": 5,
   "id": "dc5f92d8-3da5-44f8-a3d3-36c0eadf3068",
   "metadata": {},
   "outputs": [],
   "source": [
    "import os\n",
    "import random\n",
    "import pandas as pd"
   ]
  },
  {
   "cell_type": "code",
   "execution_count": 14,
   "id": "c6f7ea6f-5bf2-40be-930e-d445748d3978",
   "metadata": {},
   "outputs": [],
   "source": [
    "num_rows = 1000000\n",
    "num_features = 20\n",
    "col_names = [\"i\", \"j\", \"k\"]"
   ]
  },
  {
   "cell_type": "code",
   "execution_count": 31,
   "id": "0c04a4ae-1d2d-42c7-860f-bc54886ab1e9",
   "metadata": {},
   "outputs": [],
   "source": [
    "# train, test, validation rel. sizes and indices inside the single common dataframe\n",
    "train_size = 0.8\n",
    "test_size = 0.1\n",
    "validation_size = 0.1\n",
    "\n",
    "train_st = 0\n",
    "train_end = int(train_size * num_rows)\n",
    "test_st = (num_rows-int(test_size * num_rows))\n",
    "test_end = num_rows\n",
    "validation_st = (num_rows-int((validation_size + test_size) * num_rows))\n",
    "validation_end = test_st"
   ]
  },
  {
   "cell_type": "code",
   "execution_count": 9,
   "id": "e59a2b46-15b0-4867-9e00-52f91e708bd9",
   "metadata": {},
   "outputs": [],
   "source": [
    "# Initialize the hashtable - represents random function: 3-tuple -> binary\n",
    "hashtable = {}\n",
    "\n",
    "# Generate keys and assign random binary values\n",
    "for i in range(num_features):\n",
    "    for j in range(num_features, 2 * num_features):\n",
    "        for k in range(2 * num_features, 3 * num_features):\n",
    "            hashtable[(i, j, k)] = random.randint(0, 1)\n",
    "\n",
    "# # Print the hashtable\n",
    "# for key, value in hashtable.items():\n",
    "#     print(f\"{key}: {value}\")"
   ]
  },
  {
   "cell_type": "code",
   "execution_count": 10,
   "id": "116c542e-c1d1-42a5-974c-78bd828ba848",
   "metadata": {},
   "outputs": [
    {
     "name": "stdout",
     "output_type": "stream",
     "text": [
      "    i   j   k  label\n",
      "0   8  21  53      0\n",
      "1  14  28  59      0\n",
      "2  18  32  55      0\n",
      "3   2  37  53      1\n",
      "4   0  28  45      0\n"
     ]
    }
   ],
   "source": [
    "# Generate random values for i, j, k\n",
    "data = {\n",
    "    'i': [random.randint(0, num_features-1) for _ in range(num_rows)],\n",
    "    'j': [random.randint(num_features, 2 * num_features-1) for _ in range(num_rows)],\n",
    "    'k': [random.randint(2 * num_features, 3 * num_features-1) for _ in range(num_rows)]\n",
    "}\n",
    "\n",
    "# Create DataFrame\n",
    "df = pd.DataFrame(data)\n",
    "\n",
    "# Add 'label' column based on hashtable\n",
    "df['label'] = df.apply(lambda row: hashtable[(row['i'], row['j'], row['k'])], axis=1)\n",
    "\n",
    "print(df.head())"
   ]
  },
  {
   "cell_type": "markdown",
   "id": "fc5f51e9-7c26-4d72-8e7e-7b10e7b5268a",
   "metadata": {},
   "source": [
    "# Sanity - verify that logistic regression's log-loss is between the naive and the optimal"
   ]
  },
  {
   "cell_type": "code",
   "execution_count": null,
   "id": "964981c2-c160-46ac-b325-6bdc0d66c3b6",
   "metadata": {},
   "outputs": [],
   "source": []
  },
  {
   "cell_type": "code",
   "execution_count": 12,
   "id": "1d180371-57f4-4e7b-bcb0-a29168886cdf",
   "metadata": {},
   "outputs": [],
   "source": [
    "from sklearn.linear_model import LogisticRegressionCV\n",
    "from sklearn.preprocessing import OneHotEncoder\n",
    "from sklearn.model_selection import train_test_split\n",
    "from sklearn.pipeline import make_pipeline\n",
    "from sklearn.compose import make_column_transformer\n",
    "from sklearn.metrics import log_loss\n",
    "from sklearn.metrics import roc_auc_score"
   ]
  },
  {
   "cell_type": "code",
   "execution_count": 15,
   "id": "6155ae20-8ee8-42f9-80ef-f74b3397ef6b",
   "metadata": {},
   "outputs": [],
   "source": [
    "pipeline = make_pipeline(\n",
    "    make_column_transformer(\n",
    "        (OneHotEncoder(), col_names),\n",
    "        remainder=\"passthrough\"\n",
    "    ),\n",
    "    LogisticRegressionCV()\n",
    ")"
   ]
  },
  {
   "cell_type": "code",
   "execution_count": 16,
   "id": "1be27221-244c-440b-8594-c3f32c7fb0bc",
   "metadata": {},
   "outputs": [],
   "source": [
    "train, test = train_test_split(df, train_size=0.8)"
   ]
  },
  {
   "cell_type": "code",
   "execution_count": 17,
   "id": "3cd3efcc-6057-4ad1-af59-f15458ff67c5",
   "metadata": {},
   "outputs": [],
   "source": [
    "pipeline = pipeline.fit(train.drop(columns=[\"label\"]), train[\"label\"])"
   ]
  },
  {
   "cell_type": "code",
   "execution_count": 18,
   "id": "6fb9cb8b-bc28-4559-8a0a-5ded73c1a643",
   "metadata": {},
   "outputs": [],
   "source": [
    "prediction = pipeline.predict_proba(test.drop(columns=[\"label\"]))[:, 1]"
   ]
  },
  {
   "cell_type": "code",
   "execution_count": 19,
   "id": "64015ac7-10a8-4f9f-95a7-20b8a4f06715",
   "metadata": {},
   "outputs": [
    {
     "data": {
      "text/plain": [
       "0.6904104407011591"
      ]
     },
     "execution_count": 19,
     "metadata": {},
     "output_type": "execute_result"
    }
   ],
   "source": [
    "log_loss(test[\"label\"], prediction)"
   ]
  },
  {
   "cell_type": "code",
   "execution_count": 20,
   "id": "e68ec041-3d21-4b11-9ee5-a1a47a5862c8",
   "metadata": {},
   "outputs": [
    {
     "data": {
      "text/plain": [
       "0.5483032637925953"
      ]
     },
     "execution_count": 20,
     "metadata": {},
     "output_type": "execute_result"
    }
   ],
   "source": [
    "roc_auc_score(test[\"label\"], prediction)"
   ]
  },
  {
   "cell_type": "code",
   "execution_count": 22,
   "id": "076fcea1-dcb9-40a8-be18-0cda933cb2b7",
   "metadata": {},
   "outputs": [],
   "source": [
    "#####################################"
   ]
  },
  {
   "cell_type": "markdown",
   "id": "040a48ef-219a-434f-8b44-1ec9b0cdf2cd",
   "metadata": {},
   "source": [
    "# Save the Dataset"
   ]
  },
  {
   "cell_type": "code",
   "execution_count": null,
   "id": "91896f01-8397-4380-bbf2-5a52c1752d16",
   "metadata": {},
   "outputs": [],
   "source": [
    "user = os.environ[\"user\"]"
   ]
  },
  {
   "cell_type": "code",
   "execution_count": 36,
   "id": "4c288140-4a3a-4b17-b01b-e3153a776bca",
   "metadata": {},
   "outputs": [],
   "source": [
    "path=f\"/home/{user}/persistent_drive/pytorch-tensorfm/data/test-datasets/random_binary_function\""
   ]
  },
  {
   "cell_type": "code",
   "execution_count": 37,
   "id": "0d2edc44-7edd-483e-abbe-e6bc8b7fe1d5",
   "metadata": {},
   "outputs": [],
   "source": [
    "df[train_st:train_end].to_csv(f\"{path}/train.csv\", index=False)"
   ]
  },
  {
   "cell_type": "code",
   "execution_count": 38,
   "id": "595ef21e-1f2d-4a60-9ef5-5953729b8570",
   "metadata": {},
   "outputs": [],
   "source": [
    "df[test_st:test_end].to_csv(f\"{path}/test.csv\", index=False)"
   ]
  },
  {
   "cell_type": "code",
   "execution_count": 39,
   "id": "3f34ed35-bea6-4485-adc2-f45ed45e6655",
   "metadata": {},
   "outputs": [],
   "source": [
    "df[validation_st:validation_end].to_csv(f\"{path}/validation.csv\", index=False)"
   ]
  }
 ],
 "metadata": {
  "kernelspec": {
   "display_name": "Python 3 (ipykernel)",
   "language": "python",
   "name": "python3"
  },
  "language_info": {
   "codemirror_mode": {
    "name": "ipython",
    "version": 3
   },
   "file_extension": ".py",
   "mimetype": "text/x-python",
   "name": "python",
   "nbconvert_exporter": "python",
   "pygments_lexer": "ipython3",
   "version": "3.9.6"
  }
 },
 "nbformat": 4,
 "nbformat_minor": 5
}
